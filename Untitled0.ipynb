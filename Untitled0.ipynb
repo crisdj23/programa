{
  "nbformat": 4,
  "nbformat_minor": 0,
  "metadata": {
    "colab": {
      "provenance": [],
      "authorship_tag": "ABX9TyMVy0yC2pDDW6g99nw8F2Av",
      "include_colab_link": true
    },
    "kernelspec": {
      "name": "python3",
      "display_name": "Python 3"
    },
    "language_info": {
      "name": "python"
    }
  },
  "cells": [
    {
      "cell_type": "markdown",
      "metadata": {
        "id": "view-in-github",
        "colab_type": "text"
      },
      "source": [
        "<a href=\"https://colab.research.google.com/github/crisdj23/programa/blob/main/Untitled0.ipynb\" target=\"_parent\"><img src=\"https://colab.research.google.com/assets/colab-badge.svg\" alt=\"Open In Colab\"/></a>"
      ]
    },
    {
      "cell_type": "code",
      "execution_count": 1,
      "metadata": {
        "colab": {
          "base_uri": "https://localhost:8080/"
        },
        "id": "UHtzrkKDUB8N",
        "outputId": "d4810cdc-38cf-40d8-ba48-48878a375403"
      },
      "outputs": [
        {
          "output_type": "stream",
          "name": "stdout",
          "text": [
            "Productos en la tienda: [{'id': 1, 'nombre': 'Camiseta', 'precio': 19.99, 'stock': 50}, {'id': 2, 'nombre': 'Zapatos', 'precio': 49.99, 'stock': 30}, {'id': 3, 'nombre': 'Pantalón', 'precio': 39.99, 'stock': 75}]\n",
            "Pedidos en la tienda: [{'id_pedido': 101, 'cliente': 'juan@email.com', 'estado': 'Entregado'}, {'id_pedido': 102, 'cliente': 'ana@email.com', 'estado': 'En proceso'}]\n",
            "Pedidos de Juan: [{'id_pedido': 101, 'cliente': 'juan@email.com', 'estado': 'Entregado'}]\n"
          ]
        }
      ],
      "source": [
        "def agregar_producto(productos, id_producto, nombre, precio, stock):\n",
        "    productos.append({\"id\": id_producto, \"nombre\": nombre, \"precio\": precio, \"stock\": stock})\n",
        "\n",
        "\n",
        "def cambiar_estado_pedido(pedidos, id_pedido, nuevo_estado):\n",
        "    for pedido in pedidos:\n",
        "        if pedido[\"id_pedido\"] == id_pedido:\n",
        "            pedido[\"estado\"] = nuevo_estado\n",
        "            return\n",
        "    print(\"Pedido no encontrado.\")\n",
        "\n",
        "\n",
        "def pedidos_por_cliente(pedidos, email):\n",
        "    return [pedido for pedido in pedidos if pedido[\"cliente\"] == email]\n",
        "\n",
        "\n",
        "productos = [\n",
        "    {\"id\": 1, \"nombre\": \"Camiseta\", \"precio\": 19.99, \"stock\": 50},\n",
        "    {\"id\": 2, \"nombre\": \"Zapatos\", \"precio\": 49.99, \"stock\": 30}\n",
        "]\n",
        "\n",
        "pedidos = [\n",
        "    {\"id_pedido\": 101, \"cliente\": \"juan@email.com\", \"estado\": \"Pendiente\"},\n",
        "    {\"id_pedido\": 102, \"cliente\": \"ana@email.com\", \"estado\": \"En proceso\"}\n",
        "]\n",
        "\n",
        "clientes = [\n",
        "    {\"nombre\": \"Juan Pérez\", \"email\": \"juan@email.com\"},\n",
        "    {\"nombre\": \"Ana Gómez\", \"email\": \"ana@email.com\"}\n",
        "]\n",
        "\n",
        "\n",
        "agregar_producto(productos, 3, \"Pantalón\", 39.99, 75)\n",
        "\n",
        "\n",
        "cambiar_estado_pedido(pedidos, 101, \"Entregado\")\n",
        "\n",
        "\n",
        "pedidos_juan = pedidos_por_cliente(pedidos, \"juan@email.com\")\n",
        "\n",
        "print(\"Productos en la tienda:\", productos)\n",
        "print(\"Pedidos en la tienda:\", pedidos)\n",
        "print(\"Pedidos de Juan:\", pedidos_juan)"
      ]
    }
  ]
}